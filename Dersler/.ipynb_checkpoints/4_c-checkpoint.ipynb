{
 "cells": [
  {
   "attachments": {},
   "cell_type": "markdown",
   "metadata": {},
   "source": [
    "# Galerkin Yöntemi ile Çözümün Yakınsanması\n",
    "\n",
    "Bir önceki bölümde problemin zayıf formunu elde etmiştik. Zayıf formu elde ederken ağırlıklı kalıntı yöntemini kullanmış ve kalıntıyı test fonksiyonu ile çarpmıştık. Bu bölümde ise zayıf formu yaklaşık olarak nasıl çözebileceğimizi ve test fonksiyonlarını nasıl seçebileceğimizi irdeleyeceğiz. Yaklaşık çözüm ararken, denklemin çözümü olabilecek ve belli şartları sağlayan deneme (trial) fonksiyonu olarak adlandıralan $u$'yu ve test fonksiyonu $v$'yi farklı fonksiyonların lineer kombinasyonu cinsinden yazarak başlayacağız. Bu yaklaşımı [Fourier dönüşümünü](https://tr.wikipedia.org/wiki/Fourier_d%C3%B6n%C3%BC%C5%9F%C3%BCm%C3%BC) konusundan hatırlayanlar olabilir. Fourier dönüşümünde herhangi bir fonksiyonu sinüs ve kosinüslerin toplamı cinsinden yazıyorduk. Biz burada hangi fonksiyonlar cinsinden yazacağımıza henüz karar vermediğimiz için $u$ ve $v$'yi toplam cinsinden aşağıdaki gibi yazabiliriz:\n",
    "\n",
    "$$ u(x)=\\sum_{i=1}^\\infty u_{i}N_{i}(x) \\quad \\quad  v(x)=\\sum_{j=1}^\\infty c_{j}M_{i}(x). \\tag{1}$$ \n",
    "Burada toplam 1'den sonsuza kadardır fakat yaklaşık hesaplama için toplamı 1'den n'e kadar yazabiliriz: \n",
    "\n",
    "$$ u(x) \\approx \\sum_{i=1}^n u_{i}N_{i}(x)=u_{n}(x) \\quad \\quad  v(x) \\approx \\sum_{j=1}^n c_{j}M_{j}(x)=v_{n}(x). \\tag{2}$$ \n",
    "\n",
    "Tanımlanan $u_{n}(x)$ ve $v_{n}(x)$ değişkenlerindeki $n$ alt indisi toplamdaki $n$ sayısından gelmektedir. \n",
    "\n",
    "Bundan sonraki adım ise $N$ ve $M$ fonksiyonlarının seçimi olacaktır. $N$ ve $M$ baz fonksiyonları olarak adlandırılır. Bu fonksiyonların seçiminde farklı yaklaşımlar mevcuttur."
   ]
  },
  {
   "attachments": {},
   "cell_type": "markdown",
   "metadata": {},
   "source": [
    "## Galerkin Yöntemi\n",
    "\n",
    "Sonlu elemanlar yönteminde sıklıkla kullanılan yaklaşım [Galerkin yöntemidir](https://en.wikipedia.org/wiki/Galerkin_method#:~:text=In%20mathematics%2C%20in%20the%20area,by%20finite%20sets%20of%20basis). Bu yöntemde deneme ve test fonksiyonları aynı baz fonksiyonları cinsinden yazılır. Yani $N=M$ olacaktır. Hatırlanacağı üzere zayıf formda $\\frac{du}{dx}$ ve  $\\frac{dv}{dx}$ terimleri de mevcuttu, o yüzden bu terimleri de baz fonksiyonları cinsinden yazmamız gerekmektedir. Buradan hareketle denklem (2)'deki ifadelerin yalnızca türevini almamız yeterli olacaktır. Görüleceği üzere denklem (2)'deki a ve b sabit değerler olduğu için sadece $N$'nin türevini almak yeterli olacaktır. $u$, $\\frac{du}{dx}$, $v$ ve  $\\frac{dv}{dx}$ ifadelerinin son hali aşağıdaki gibidir:\n",
    "\n",
    "$$ u_{n}(x)=\\sum_{i=1}^n u_{i}N_{i}(x) \\quad \\quad v_{n}(x)=\\sum_{j=1}^n c_{j}N_{j}(x) \\quad \\quad \\frac{du_{n}}{dx}=\\sum_{i=1}^n u_{i}\\frac{dN_{i}}{dx} \\quad \\quad \\frac{dv_{n}}{dx}=\\sum_{j=1}^n c_{j}\\frac{dN_{j}}{dx}. \\tag{3} $$\n",
    "\n",
    "Artık yapmamız gereken son şey denklem (3)'teki ifadeleri zayıf formda yerine koymaktır. Bu işlem sonrası zayıf form aşağıdaki gibi yazılabilir:\n",
    "\n",
    "\n",
    "$$ \\int_{0}^{l}\\sum_{j=1}^n c_{j}N_{j}(x)b\\,dx\\ = \\int_{0}^{l} \\sum_{j=1}^n c_{j}\\frac{dN_{j}}{dx}AE\\sum_{i=1}^n u_{i}\\frac{dN_{i}}{dx} \\,dx. \\tag{4} $$\n",
    "\n",
    "Belirli integralimiz sonlu olduğu için toplam işlemi ve integralin sırası değişebilir. İşlem sırasını değiştirir ve $c_{j}$ parantezine alırsak denklem (4)'ü aşağıdaki gibi yazabiliriz:\n",
    "\n",
    "$$ \\sum_{j=1}^n c_{j}\\left(\\int_{0}^{l}N_{j}(x)b\\,dx\\ \\right) = \\sum_{j=1}^n c_{j}\\left(\\sum_{i=1}^n\\left(\\int_{0}^{l} \\frac{dN_{j}}{dx}AE u_{i}\\frac{dN_{i}}{dx} \\,dx\\right)\\right). \\tag{5} $$\n",
    "\n",
    "Denklem (5), Galerkin yöntemi ile yaklaşık çözümü elde edeceğimiz formdur. Bundan sonraki aşamalarda denklem (5)'i matris formuna çevireceğiz. Buradaki motivasyon, matris işlemlerinin kolay programlanabilir ve bilgisayarlar tarafından hızlıca çözülebiliyor olmasıdır. "
   ]
  },
  {
   "attachments": {},
   "cell_type": "markdown",
   "metadata": {},
   "source": [
    "### Matris Gösterimi\n",
    "\n",
    "Denklem (5)'i daha kısa şekilde yazmak için aşağıdaki terimleri tanımlayalım:\n",
    "\n",
    "$$ K_{ji}=\\int_{0}^{l} \\frac{dN_{j}}{dx}AE \\frac{dN_{i}}{dx} \\,dx \\quad \\quad f_{j}=\\int_{0}^{l}N_{j}(x)b\\,dx\\ \\tag{6}$$\n",
    "\n",
    "Denklem (6)'daki terimlerin yardımı ile denklem (5)'i aşağıdaki gibi yazabiliriz:\n",
    "\n",
    "$$\\sum_{j=1}^n c_{j}f_{j}= \\sum_{j=1}^n c_{j}\\sum_{i=1}^nK_{ji}u_{i}. \\tag{7}$$\n",
    "\n",
    "Şimdi denklem (7)'nin sol tarafındaki terimi denklemin sağına alalım ve $c_{j}$ değişkenini ortak çarpan olarak yazarsak: \n",
    "\n",
    "$$0=\\sum_{j=1}^n c_{j}\\left(\\sum_{i=1}^nK_{ji}u_{i}-f_{j}\\right) \\tag{8}$$\n",
    "\n",
    "ifadesini elde ederiz. Önceki bölümden (ders 4b) hatırlanabileceği üzere test fonksiyonları keyfi seçilmişti. Denklem (3)'te ise test fonksiyonlarını baz fonksiyonları cinsinden yazmıştık. Keyfiliğin buradaki karşılığı $c_{j}$ katsayılarının herhangi bir değeri alabilmesine karşılık gelir. Dolayısıyla denklem (8)'i ancak ve ancak $c_{j}$ katsayılarının hepsi sıfır olduğunda (ki bu keyfilik şartını sağlamaz) ya da aşağıdaki denklik doğru olduğunda sağlayabiliriz:\n",
    "\n",
    "$$\\sum_{j=1}^n\\left(\\sum_{i=1}^nK_{ji}u_{i}-f_{j}\\right)=0. \\tag{9}$$\n",
    "\n",
    "Denklem (9) bize $n$ adet eşitlik verir. Bu eşitlikleri matris formunda kısaca aşağıdaki gibi yazabiliriz:\n",
    "\n",
    "$$\\mathbf{K}\\mathbf{u} = \\mathbf{f} \\tag{10}$$\n",
    "\n",
    "Burada $\\mathbf{K}$ sertlik matrisi ve $\\mathbf{f}$ ise kuvvet vektörü olarak isimlendirilir. $\\mathbf{u}$ ise düğüm noktalarındaki bilinmeyen değerleri ifade eden vektördür.  $\\mathbf{u}$'yu aşağıdaki işlem ile de bulabiliriz:\n",
    "\n",
    "$$\\mathbf{u}=\\mathbf{K}^{-1}\\mathbf{f}.  \\tag{11}$$\n",
    "\n",
    "Böylelikle denklem sistemimizi programlamaya uygun olacak şekilde matrisler ile göstermiş olduk. Bir sonraki derste baz fonksiyonlarına ve türevlerine değineceğiz."
   ]
  }
 ],
 "metadata": {
  "kernelspec": {
   "display_name": "Python 3 (ipykernel)",
   "language": "python",
   "name": "python3"
  },
  "language_info": {
   "codemirror_mode": {
    "name": "ipython",
    "version": 3
   },
   "file_extension": ".py",
   "mimetype": "text/x-python",
   "name": "python",
   "nbconvert_exporter": "python",
   "pygments_lexer": "ipython3",
   "version": "3.10.6"
  },
  "vscode": {
   "interpreter": {
    "hash": "a19667b0e222744940110a19ba49966806adbd960294bbbfbb65d00f24fc19e3"
   }
  }
 },
 "nbformat": 4,
 "nbformat_minor": 2
}
